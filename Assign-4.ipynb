{
 "cells": [
  {
   "cell_type": "markdown",
   "metadata": {},
   "source": [
    "1.1 Write a Python Program(with class \n",
    "concepts) to find the area of the triangle \n",
    "using the below formula.area = (s*(s-a)*\n",
    "(s-b)*(s-c)) ** 0.5\n",
    "Function to take the length of thesides of \n",
    "triangle from user should be defined in \n",
    "the parent class and function to calculate \n",
    "the area should be defined in subclass"
   ]
  },
  {
   "cell_type": "code",
   "execution_count": 1,
   "metadata": {},
   "outputs": [
    {
     "name": "stdout",
     "output_type": "stream",
     "text": [
      "Enter side 1 : 3\n",
      "Enter side 2 : 4\n",
      "Enter side 3 : 6\n",
      "side 1 is 3.0\n",
      "side 2 is 4.0\n",
      "side 3 is 6.0\n",
      "The area of the triangle  is 5.33\n"
     ]
    }
   ],
   "source": [
    "class Polygon:\n",
    "    def __init__(self, no_of_sides,*sides): #( * )passing variable length argument\n",
    "        self.n = no_of_sides\n",
    "        self.sides = [float(input(\"Enter side \"+str(i+1)+\" : \")) for i in range(self.n)] #list comprehension\n",
    "        for i in range(self.n):\n",
    "            print(\"side\",i+1, \"is\",self.sides[i])\n",
    "\n",
    "\n",
    "class Triangle(Polygon):\n",
    "    def __init__(self,*args):\n",
    "        super(Triangle,self).__init__(3)\n",
    "\n",
    "    def find_Area(self):\n",
    "        a, b, c = self.sides #to cal.semiperimeter\n",
    "        s = (a + b + c) / 2\n",
    "        area = (s*(s-a)*(s-b)*(s-c)) ** 0.5\n",
    "        print('The area of the triangle  is %0.2f' %area)\n",
    "        \n",
    "t=Triangle() # instance of child class created\n",
    "\n",
    "t.find_Area() #class obj.method name\n"
   ]
  },
  {
   "cell_type": "markdown",
   "metadata": {},
   "source": [
    "1.2 Write a function filter_long_words() \n",
    "that takes a list of words and an integer n \n",
    "and returns the list of words that are \n",
    "longer than n."
   ]
  },
  {
   "cell_type": "code",
   "execution_count": 2,
   "metadata": {},
   "outputs": [
    {
     "data": {
      "text/plain": [
       "['suhanshu', 'priyan']"
      ]
     },
     "execution_count": 2,
     "metadata": {},
     "output_type": "execute_result"
    }
   ],
   "source": [
    "def filter_long_word(names,number): #user define function with 2 arguments names,number\n",
    "    return list(filter(lambda var:len(var)>number,names)) #filter the word which are \n",
    "                                                          #greater than integer\n",
    "filter_long_word([\"suhanshu\",\"sarfu\",\"jay\",\"priyan\"],5)"
   ]
  },
  {
   "cell_type": "markdown",
   "metadata": {},
   "source": [
    "2.1)Write a Python program using \n",
    "function concept that maps list of words \n",
    "into a list of integers representing the \n",
    "lengths of the corresponding words.\n",
    "Hint: If a list [ ab,cde,erty] is passed on to \n",
    "the python function output should come as [2,3,4]\n",
    "Here 2,3 and 4 are the lengths of the \n",
    "words in the list."
   ]
  },
  {
   "cell_type": "code",
   "execution_count": 3,
   "metadata": {},
   "outputs": [
    {
     "name": "stdout",
     "output_type": "stream",
     "text": [
      "length of words : [5, 8, 4]\n"
     ]
    }
   ],
   "source": [
    "##using user created function to find legth of words\n",
    "\n",
    "def map_length_word(names):     #define function\n",
    "    y=[len(x) for x in names]   #using list compression \n",
    "    print(\"length of words :\",y)\n",
    "    \n",
    "\n",
    "map_length_word([\"akash\",\"priyanka\",\"jayu\"]) #calling a function\n",
    "\n",
    "    \n",
    "    \n"
   ]
  },
  {
   "cell_type": "markdown",
   "metadata": {},
   "source": [
    "2.2) Write a Python function which takes a \n",
    "character (i.e. a string of length 1) and \n",
    "returns True if it is a vowel, False \n",
    "otherwise."
   ]
  },
  {
   "cell_type": "code",
   "execution_count": 1,
   "metadata": {},
   "outputs": [
    {
     "data": {
      "text/plain": [
       "False"
      ]
     },
     "execution_count": 1,
     "metadata": {},
     "output_type": "execute_result"
    }
   ],
   "source": [
    "lst=['a','e','i','o','u']\n",
    "def isvowels(X):\n",
    "    for var in lst:\n",
    "        if X==var:\n",
    "            return True  #if and only if for loop iterate fully and inside if will not work then only goes to else\n",
    "    else:\n",
    "            return False\n",
    "        \n",
    "        \n",
    "isvowels('e')\n",
    "isvowels('n')\n",
    "        "
   ]
  },
  {
   "cell_type": "code",
   "execution_count": null,
   "metadata": {},
   "outputs": [],
   "source": []
  }
 ],
 "metadata": {
  "kernelspec": {
   "display_name": "Python 3",
   "language": "python",
   "name": "python3"
  },
  "language_info": {
   "codemirror_mode": {
    "name": "ipython",
    "version": 3
   },
   "file_extension": ".py",
   "mimetype": "text/x-python",
   "name": "python",
   "nbconvert_exporter": "python",
   "pygments_lexer": "ipython3",
   "version": "3.7.2"
  }
 },
 "nbformat": 4,
 "nbformat_minor": 4
}
