{
 "cells": [
  {
   "cell_type": "markdown",
   "metadata": {},
   "source": [
    "Q.1)Write a Python Program to implement your own myreduce()function which works exactly like Python's built-in function reduce()"
   ]
  },
  {
   "cell_type": "code",
   "execution_count": 1,
   "metadata": {},
   "outputs": [
    {
     "name": "stdout",
     "output_type": "stream",
     "text": [
      "The result of simple function : 24\n",
      "The multiplication using lambda : 24\n"
     ]
    }
   ],
   "source": [
    "def do_multiply(x1,x2):             #for checking my_refuce on this function\n",
    "    return x1*x2\n",
    "def do_lambda(*a):                  # as a is vairable length argument,for checking lambda as function in reduce function\n",
    "    mul=1\n",
    "    for j in a:\n",
    "        mul=mul*j\n",
    "    return mul\n",
    "def my_reduce(func,l):\n",
    "    seq=l[0]                        #as we know function operate on 1st two elements in seq,store 1st element and then looping to operate function \n",
    "    for i in l[1:]:\n",
    "        seq=func(seq,i)\n",
    "    return seq                       #after operation single value ans will return back\n",
    "\n",
    "Out=my_reduce(do_multiply,[1,2,3,4])            #calling my reduce with inner function multiply\n",
    "print(\"The result of simple function :\",Out)\n",
    "Out1=my_reduce(do_lambda,[1,2,3,4])            #calling lambda function\n",
    "print(\"The multiplication using lambda :\",Out1)\n",
    "\n",
    "\n",
    "\n"
   ]
  },
  {
   "cell_type": "markdown",
   "metadata": {},
   "source": [
    "Q.2)Write a Python program to implement your own my filter()function which works exactly like Python's built-in function filter()"
   ]
  },
  {
   "cell_type": "code",
   "execution_count": 1,
   "metadata": {},
   "outputs": [
    {
     "data": {
      "text/plain": [
       "[2, 4, 6, 8]"
      ]
     },
     "execution_count": 1,
     "metadata": {},
     "output_type": "execute_result"
    }
   ],
   "source": [
    "def evn_check(num):           #creation of function to check even no using filter\n",
    "    if num%2==0:\n",
    "        return True\n",
    "    \n",
    "def my_filter(func, sequence):  #creating filter function\n",
    "    l=[]\n",
    "    for i in sequence:\n",
    "        if func(i):           #if those element will be in op of inner function, filtration done\n",
    "            l.append(i)\n",
    "    return l\n",
    "\n",
    "result=my_filter(evn_check,[1,2,3,4,5,6,7,8,])\n",
    "result\n",
    "        \n"
   ]
  },
  {
   "cell_type": "markdown",
   "metadata": {},
   "source": [
    "Q.3) Implement List comprehensions to produce the following lists. Write List comprehensions to produce the following Lists ['x','xx','xxx','xxxx','y','yy','yyy','yyyy','z',' zz','zzz','zzzz'] [[2],[3],[4],[3],[4],[5],[4],[5],[6]] [[2,3,4,5],[3,4,5,6],[4,5,6,7],[5,6,7, 8]] [(1,1),(2,1),(3,1),(1,2),(2,2),(3,2),(1,3),(2,3),(3,3)]"
   ]
  },
  {
   "cell_type": "code",
   "execution_count": 2,
   "metadata": {},
   "outputs": [
    {
     "name": "stdout",
     "output_type": "stream",
     "text": [
      "result: ['x', 'xx', 'xxx', 'xxxx', 'y', 'yy', 'yyy', 'yyyy', 'z', 'zz', 'zzz', 'zzzz']\n",
      "result2:['x', 'y', 'z', 'xx', 'yy', 'zz', 'xxx', 'yyy', 'zzz', 'xxxx', 'yyyy', 'zzzz']\n",
      "result3:[[2], [3], [4], [3], [4], [5], [4], [5], [6]]\n",
      "result4:[[2, 3, 4, 5], [3, 4, 5, 6], [4, 5, 6, 7], [5, 6, 7, 8]]\n",
      "result5: [(1, 1), (2, 1), (3, 1), (1, 2), (2, 2), (3, 2), (1, 3), (2, 3), (3, 3)]\n"
     ]
    }
   ],
   "source": [
    "#list comprehensions \n",
    "given=['x','y','z']\n",
    "result=[item*num for item in given for num in range(1,5)] #list compression logic-[expn outer loop inner loop]\n",
    "print(\"result:\",str (result))\n",
    "result2=[item*num for num in range(1,5) for item in given]\n",
    "print(\"result2:\"+str(result2))        #to print result of string date type\n",
    "given1=[2,3,4]\n",
    "result3=[[item+num] for num in range(0,3) for item in given1]\n",
    "print(\"result3:\"+str(result3))\n",
    "given2=[2,3,4,5]\n",
    "result4=[[item+num for num in range(0,4)] for item in given2]\n",
    "print(\"result4:\"+str(result4))\n",
    "given3=[1,2,3]\n",
    "result5=[(y,x) for x in given3 for y in given3]\n",
    "print(\"result5:\",str(result5))\n",
    "\n",
    "\n"
   ]
  },
  {
   "cell_type": "code",
   "execution_count": null,
   "metadata": {},
   "outputs": [],
   "source": []
  }
 ],
 "metadata": {
  "kernelspec": {
   "display_name": "Python 3",
   "language": "python",
   "name": "python3"
  },
  "language_info": {
   "codemirror_mode": {
    "name": "ipython",
    "version": 3
   },
   "file_extension": ".py",
   "mimetype": "text/x-python",
   "name": "python",
   "nbconvert_exporter": "python",
   "pygments_lexer": "ipython3",
   "version": "3.7.2"
  }
 },
 "nbformat": 4,
 "nbformat_minor": 4
}
